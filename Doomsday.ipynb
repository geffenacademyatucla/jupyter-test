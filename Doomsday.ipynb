{
  "cells": [
    {
      "cell_type": "markdown",
      "source": [
        "# Doomsday \n",
        "### John Conway\n",
        "_1  The last of Feb., or of Jan., will do  \n",
        "2  (Except that in Leap Years it's Jan. 32).  \n",
        "3  Then for even months use the month's own day,  \n",
        "4  And for odd ones add 4, or take it away.*  \n",
        "5  Now to work out your doomsday the orthodox way  \n",
        "6  Three things you should add to the century day  \n",
        "7  Dozens, remainder, and fours in the latter,   \n",
        "8  (If you alter by sevens of course it won't matter)  \n",
        "9  In Julian times, lackaday, lackaday  \n",
        "10 Zero was Sunday, centuries fell back a day  \n",
        "11 But Gregorian 4 hundreds are always Tues.  \n",
        "12 And now centuries extra take us back twos._  \n",
        "\n",
        "--------------------------  \n",
        "\n",
        "_13  * According to length or simply remember,  \n",
        "14  you only subtract for September, or November._ \n",
        "\n"
      ],
      "metadata": {
        "nteract": {
          "transient": {
            "deleting": false
          }
        }
      }
    },
    {
      "cell_type": "markdown",
      "source": [
        "## Introduction\n",
        "\n",
        "John Conway (Game of Life, victim of Covid)  \n",
        "What is a Doomsday  \n",
        "The Doomsday Algorithm \n",
        "What does this have to do with AI? Games and play have a rich history in AI. Eliza, Turing test, Deep Blue, GO. Why is this? (Answer and we will talk about it later when we talk about the intro to AI and rational agents) . \n",
        "We will be writing a lot of our own algorithms. Sometimes they will be specified (like this one), other times we will have to work into one based on a understanding of a problem. Understanding = framing. We will start by understanding common problem framings in AI and by the end of the course you will be able to model your own domains  \n",
        "This also gives you a change to practice the method that we will often be using to solve problems or come up with code solutions: We start analog...pencil paper -- LOT'S OF ERASERS -- then next we digitize and use our fancy calculators...(my week attempt at DJ Conway's rhyming skills...they call me DJ WannaBe)."
      ],
      "metadata": {
        "nteract": {
          "transient": {
            "deleting": false
          }
        }
      }
    },
    {
      "cell_type": "markdown",
      "source": [
        "## Leap Years\n",
        "Start with leap year  \n",
        "Modular Math with 7's  \n",
        "Lemma: Adding 7's to a day of the week leaves the day unchanged. This is an invariant operation. \n",
        "_Adding x days is equivalent to adding x - 7 which is equivalent to subtracting 7 - x._  \n",
        "* Years that are divisible by 4 and not by 100\n",
        "* Years that are divisible by 4 and 100.\n",
        "* Leap years happen every 4 years?? (we will answer this in a later problem)"
      ],
      "metadata": {
        "nteract": {
          "transient": {
            "deleting": false
          }
        }
      }
    },
    {
      "cell_type": "markdown",
      "source": [
        "## 1: Rule of January"
      ],
      "metadata": {
        "nteract": {
          "transient": {
            "deleting": false
          }
        }
      }
    },
    {
      "cell_type": "markdown",
      "source": [
        "## 2: Rule of March"
      ],
      "metadata": {
        "nteract": {
          "transient": {
            "deleting": false
          }
        }
      }
    },
    {
      "cell_type": "markdown",
      "source": [
        "## 3: Rule of Even Months"
      ],
      "metadata": {
        "nteract": {
          "transient": {
            "deleting": false
          }
        }
      }
    },
    {
      "cell_type": "markdown",
      "source": [
        "## 4: Rule of Odd Months"
      ],
      "metadata": {
        "nteract": {
          "transient": {
            "deleting": false
          }
        }
      }
    },
    {
      "cell_type": "markdown",
      "source": [
        "## 5: Finding the Doomsday in past or future years"
      ],
      "metadata": {
        "nteract": {
          "transient": {
            "deleting": false
          }
        }
      }
    },
    {
      "cell_type": "markdown",
      "source": [
        "## 5a: Past or Future years"
      ],
      "metadata": {
        "nteract": {
          "transient": {
            "deleting": false
          }
        }
      }
    },
    {
      "cell_type": "markdown",
      "source": [
        "## 5b: 12 Year Rule"
      ],
      "metadata": {
        "nteract": {
          "transient": {
            "deleting": false
          }
        }
      }
    },
    {
      "cell_type": "markdown",
      "source": [
        "## Homework:  \n",
        "Solve each of these problems on paper. You must show your work and you will be turning in your written solutions.  \n",
        "\n",
        "1. What day were you born on?  \n",
        "2. What day was one of your family members born on?\n",
        "3. Who are 2 of your heros? What days were they born on?\n",
        "4. Graduation day is the 2 Wednesday after Memorial Day. What day of the week will you graduate from Geffen?"
      ],
      "metadata": {
        "nteract": {
          "transient": {
            "deleting": false
          }
        }
      }
    }
  ],
  "metadata": {
    "kernel_info": {
      "name": "python3"
    },
    "language_info": {
      "name": "python",
      "version": "3.8.2",
      "mimetype": "text/x-python",
      "codemirror_mode": {
        "name": "ipython",
        "version": 3
      },
      "pygments_lexer": "ipython3",
      "nbconvert_exporter": "python",
      "file_extension": ".py"
    },
    "kernelspec": {
      "argv": [
        "/Users/rspell/Dropbox/Geffen/Teaching/2020/Adv Topic/projects-virtualenv/nteract-test/bin/python",
        "-m",
        "ipykernel_launcher",
        "-f",
        "{connection_file}"
      ],
      "display_name": "Python 3",
      "language": "python",
      "name": "python3"
    },
    "nteract": {
      "version": "0.25.0"
    }
  },
  "nbformat": 4,
  "nbformat_minor": 0
}